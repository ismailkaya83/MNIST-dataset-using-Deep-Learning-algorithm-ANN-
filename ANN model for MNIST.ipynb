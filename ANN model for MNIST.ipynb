{
 "cells": [
  {
   "cell_type": "code",
   "execution_count": 1,
   "metadata": {
    "_cell_guid": "b1076dfc-b9ad-4769-8c92-a6c4dae69d19",
    "_uuid": "8f2839f25d086af736a60e9eeb907d3b93b6e0e5"
   },
   "outputs": [],
   "source": [
    "import numpy as np\n",
    "import pandas as pd \n",
    "\n",
    "import matplotlib.pyplot as plt\n",
    "\n",
    "import tensorflow as tf\n",
    "from tensorflow import keras\n",
    "from tensorflow.keras import layers"
   ]
  },
  {
   "cell_type": "markdown",
   "metadata": {},
   "source": [
    "# MNIST dataset\n",
    "- MNIST is a collection of handwritten digits ranging from the number 0 to 9.\n",
    "- It has a training set of 42.000 images and 28.000 test images that are classified into corresponding categories or labels."
   ]
  },
  {
   "cell_type": "code",
   "execution_count": 2,
   "metadata": {},
   "outputs": [],
   "source": [
    "train = pd.read_csv(\"train.csv\")\n",
    "test = pd.read_csv(\"test.csv\")"
   ]
  },
  {
   "cell_type": "code",
   "execution_count": 3,
   "metadata": {},
   "outputs": [],
   "source": [
    "# Target variable\n",
    "y = train.pop(\"label\")"
   ]
  },
  {
   "cell_type": "code",
   "execution_count": 4,
   "metadata": {},
   "outputs": [],
   "source": [
    "# scale the input values to type float32 and (normalize) the input values within the interval [0, 1]\n",
    "\n",
    "train = train.astype('float32')/255\n",
    "test = test.astype('float32')/255\n",
    "y = y.astype('float32')"
   ]
  },
  {
   "cell_type": "code",
   "execution_count": 5,
   "metadata": {},
   "outputs": [],
   "source": [
    "# Converting pandas Dataframe to numpy array\n",
    "\n",
    "train = pd.DataFrame.to_numpy(train)\n",
    "test = pd.DataFrame.to_numpy(test)"
   ]
  },
  {
   "cell_type": "code",
   "execution_count": 6,
   "metadata": {},
   "outputs": [],
   "source": [
    "# Splitting training set into train and dev set \n",
    "\n",
    "from sklearn.model_selection import train_test_split\n",
    "x_train, x_test, y_train, y_test = train_test_split(train, y, test_size=0.33, random_state=42)"
   ]
  },
  {
   "cell_type": "code",
   "execution_count": 7,
   "metadata": {},
   "outputs": [
    {
     "data": {
      "text/plain": [
       "((28140, 784), (13860, 784), (28140,), (13860,))"
      ]
     },
     "execution_count": 7,
     "metadata": {},
     "output_type": "execute_result"
    }
   ],
   "source": [
    "x_train.shape, x_test.shape, y_train.shape, y_test.shape"
   ]
  },
  {
   "cell_type": "code",
   "execution_count": 8,
   "metadata": {},
   "outputs": [
    {
     "name": "stderr",
     "output_type": "stream",
     "text": [
      "Using TensorFlow backend.\n"
     ]
    }
   ],
   "source": [
    "# Y variable has 10 different classes. Therefore we need to represent each values in y as vector. \n",
    "# This converst for example  1 to [0., 1., 0., 0., 0., 0., 0., 0., 0., 0.] vector. \n",
    "\n",
    "from keras.utils import to_categorical\n",
    "\n",
    "y_train = to_categorical(y_train, num_classes=10)\n",
    "\n",
    "y_test = to_categorical(y_test, num_classes=10)"
   ]
  },
  {
   "cell_type": "code",
   "execution_count": 9,
   "metadata": {},
   "outputs": [
    {
     "data": {
      "text/plain": [
       "((28140, 784), (13860, 784), (28140, 10), (13860, 10))"
      ]
     },
     "execution_count": 9,
     "metadata": {},
     "output_type": "execute_result"
    }
   ],
   "source": [
    "x_train.shape, x_test.shape, y_train.shape, y_test.shape"
   ]
  },
  {
   "cell_type": "markdown",
   "metadata": {},
   "source": [
    "# Model with function and KERAS"
   ]
  },
  {
   "cell_type": "markdown",
   "metadata": {},
   "source": [
    "6.1 Sequential class in Keras \n",
    "- The main data structure in Keras is the Sequential class, which allows the creation of a basic neural network. The Sequential class of the Keras library is a wrapper for the sequential neural network model that Keras offers and can be created in the following way:\n",
    "\n",
    "- The model in Keras is considered as a sequence of layers and each of them gradually “distills” the input data to obtain the desired output. In Keras, we can add the required types of layers through the .add() method.\n",
    "\n",
    "https://www.kaggle.com/prashant111/comprehensive-guide-to-ann-with-keras"
   ]
  },
  {
   "cell_type": "code",
   "execution_count": 10,
   "metadata": {},
   "outputs": [],
   "source": [
    "from keras.models import Sequential\n",
    "from keras.layers.core import Dense, Activation\n",
    "\n",
    "\n",
    "model = Sequential()\n",
    "model.add(Dense(10, activation='sigmoid', input_shape=(784,)))\n",
    "model.add(Dense(10, activation='softmax'))"
   ]
  },
  {
   "cell_type": "markdown",
   "metadata": {},
   "source": [
    "#### First layer\n",
    "-We explicitly express in the input_shape argument of the first layer what the input data is like: a tensor that indicates that we have 784 features of the model.\n",
    "\n",
    "-The tensor is being defined is (None, 784,).\n",
    "\n",
    "#### Second layer\n",
    "-The second layer is a softmax layer of 10 neurons, which means that it will return a matrix of 10 probability values representing the 10 possible digits.\n",
    "\n",
    "-Each value will be the probability that the image of the current digit belongs to each one of them."
   ]
  },
  {
   "cell_type": "markdown",
   "metadata": {},
   "source": [
    "### Available activations\n",
    "\n",
    "- tf.keras.activations.relu(x, alpha=0.0, max_value=None, threshold=0)\n",
    "- tf.keras.activations.sigmoid(x)\n",
    "- tf.keras.activations.softmax(x, axis=-1)\n",
    "- tf.keras.activations.softplus(x)\n",
    "- tf.keras.activations.softsign(x)\n",
    "- tf.keras.activations.tanh(x)\n",
    "- tf.keras.activations.selu(x)\n",
    "- tf.keras.activations.elu(x, alpha=1.0)\n",
    "- tf.keras.activations.exponential(x)\n",
    "- tf.keras.layers.LeakyReLU(alpha=0.3, **kwargs)\n",
    "- tf.keras.layers.PReLU(alpha_initializer=\"zeros\",alpha_regularizer=None,alpha_constraint=None,shared_axes=None,**kwargs)\n",
    "- tf.keras.layers.ThresholdedReLU(theta=1.0, **kwargs)"
   ]
  },
  {
   "cell_type": "code",
   "execution_count": 11,
   "metadata": {
    "scrolled": true
   },
   "outputs": [
    {
     "name": "stdout",
     "output_type": "stream",
     "text": [
      "Model: \"sequential_1\"\n",
      "_________________________________________________________________\n",
      "Layer (type)                 Output Shape              Param #   \n",
      "=================================================================\n",
      "dense_1 (Dense)              (None, 10)                7850      \n",
      "_________________________________________________________________\n",
      "dense_2 (Dense)              (None, 10)                110       \n",
      "=================================================================\n",
      "Total params: 7,960\n",
      "Trainable params: 7,960\n",
      "Non-trainable params: 0\n",
      "_________________________________________________________________\n"
     ]
    }
   ],
   "source": [
    "model.summary() # Keras provides a very useful method to check the architecture of the model."
   ]
  },
  {
   "cell_type": "markdown",
   "metadata": {},
   "source": [
    "- For our simple example, we see that it indicates that 7,960 parameters are required (column Param #), which correspond to 7850 parameters to the first layer and 110 to the second.\n",
    "- In the first layer, for each neuron i (between 0 and 9) we require 784 parameters for the weights wij and therefore 10×784=7840 parameters to store the weights of the 10 neurons.\n",
    "- Also, 10 additional parameters for the 10 bj biases corresponding to each one of them is required.\n",
    "- So, for the first layer we require 7840 + 10 = 7850 parameters.\n",
    "\n",
    "- In the second layer, being a softmax function, it is required to connect all 10 neurons with the 10 neurons of the previous layer.\n",
    "- Therefore 10x10=100 wi parameters are required and in addition 10 bj biases corresponding to each node is required.\n",
    "- So, we require 100 + 10 = 110 parameters for the second layer."
   ]
  },
  {
   "cell_type": "code",
   "execution_count": 12,
   "metadata": {},
   "outputs": [],
   "source": [
    "model.compile(loss=\"categorical_crossentropy\", # Computes the crossentropy loss between the labels and predictions.\n",
    "              optimizer=\"sgd\",\n",
    "              metrics = ['accuracy']) # Calculates how often predictions equals labels."
   ]
  },
  {
   "cell_type": "markdown",
   "metadata": {},
   "source": [
    "### Compile model with compile() method\n",
    "- Starting with the Sequential model, we can define the layers in a simple way with the add() method.\n",
    "\n",
    "- The next step is to compile the model with the compile() method, with which we can specify some properties through method arguments which are as follows:\n",
    "\n",
    "Loss Function (https://keras.io/api/losses/)\n",
    "- The first argument is the loss function.\n",
    "\n",
    "- We will use it to evaluate the degree of error between calculated outputs and the desired outputs of the training data.\n",
    "\n",
    "Optimizer (https://keras.io/api/optimizers/)\n",
    "- The second argument is the optimizer.\n",
    "\n",
    "- It is the way we have to specify the optimization algorithm that allows the neural network to calculate the weights of the parameters from the input data and the defined loss function.\n",
    "\n",
    "Metrics (https://keras.io/api/metrics/)\n",
    "- The third argument is the metrics.\n",
    "\n",
    "- We must indicate the metric that we will use to monitor the learning process and test of our neural network."
   ]
  },
  {
   "cell_type": "code",
   "execution_count": 13,
   "metadata": {},
   "outputs": [
    {
     "name": "stdout",
     "output_type": "stream",
     "text": [
      "WARNING:tensorflow:From C:\\Users\\tor23\\Anaconda3\\lib\\site-packages\\keras\\backend\\tensorflow_backend.py:422: The name tf.global_variables is deprecated. Please use tf.compat.v1.global_variables instead.\n",
      "\n",
      "Epoch 1/10\n",
      "28140/28140 [==============================] - 2s 54us/step - loss: 2.2645 - accuracy: 0.1249\n",
      "Epoch 2/10\n",
      "28140/28140 [==============================] - 1s 32us/step - loss: 2.1059 - accuracy: 0.4167\n",
      "Epoch 3/10\n",
      "28140/28140 [==============================] - 1s 31us/step - loss: 1.9760 - accuracy: 0.5596\n",
      "Epoch 4/10\n",
      "28140/28140 [==============================] - 1s 31us/step - loss: 1.8533 - accuracy: 0.6095\n",
      "Epoch 5/10\n",
      "28140/28140 [==============================] - 1s 33us/step - loss: 1.7378 - accuracy: 0.6456\n",
      "Epoch 6/10\n",
      "28140/28140 [==============================] - 1s 39us/step - loss: 1.6299 - accuracy: 0.6719\n",
      "Epoch 7/10\n",
      "28140/28140 [==============================] - 1s 42us/step - loss: 1.5304 - accuracy: 0.6954\n",
      "Epoch 8/10\n",
      "28140/28140 [==============================] - 1s 32us/step - loss: 1.4396 - accuracy: 0.7147\n",
      "Epoch 9/10\n",
      "28140/28140 [==============================] - 1s 34us/step - loss: 1.3572 - accuracy: 0.7314\n",
      "Epoch 10/10\n",
      "28140/28140 [==============================] - 1s 35us/step - loss: 1.2828 - accuracy: 0.7487\n"
     ]
    },
    {
     "data": {
      "text/plain": [
       "<keras.callbacks.callbacks.History at 0x21184031278>"
      ]
     },
     "execution_count": 13,
     "metadata": {},
     "output_type": "execute_result"
    }
   ],
   "source": [
    "model.fit(x_train, y_train, batch_size=100, epochs=10)\n",
    "\n",
    "# The batch_size argument indicates the number of data that we will use for each update of the model parameters.\n",
    "\n",
    "# The epochs argument indicate the number of times we will use all the data in the learning process."
   ]
  },
  {
   "cell_type": "code",
   "execution_count": 14,
   "metadata": {},
   "outputs": [
    {
     "name": "stdout",
     "output_type": "stream",
     "text": [
      "13860/13860 [==============================] - 1s 54us/step\n"
     ]
    }
   ],
   "source": [
    "test_loss, test_acc = model.evaluate(x_test, y_test)\n",
    "\n",
    "# The model can now be evaluated with the evaluate() method as follows:"
   ]
  },
  {
   "cell_type": "code",
   "execution_count": 15,
   "metadata": {},
   "outputs": [
    {
     "name": "stdout",
     "output_type": "stream",
     "text": [
      "Test accuracy: 0.7543\n"
     ]
    }
   ],
   "source": [
    "print('Test accuracy:', round(test_acc,4))"
   ]
  },
  {
   "cell_type": "markdown",
   "metadata": {},
   "source": [
    "#### Confusion-matrix"
   ]
  },
  {
   "cell_type": "code",
   "execution_count": 16,
   "metadata": {},
   "outputs": [],
   "source": [
    "def plot_confusion_matrix(cm, classes,\n",
    "                          normalize=False,\n",
    "                          title='Confusion matrix',\n",
    "                          cmap=plt.cm.Blues):\n",
    "    \"\"\"\n",
    "    This function prints and plots the confusion matrix.\n",
    "    Normalization can be applied by setting `normalize=True`.\n",
    "    \"\"\"\n",
    "    plt.imshow(cm, interpolation='nearest', cmap=cmap)\n",
    "    plt.title(title)\n",
    "    plt.colorbar()\n",
    "    tick_marks = np.arange(len(classes))\n",
    "    plt.xticks(tick_marks, classes, rotation=30)\n",
    "    plt.yticks(tick_marks, classes)\n",
    "\n",
    "    if normalize:\n",
    "        cm = cm.astype('float') / cm.sum(axis=1)[:, np.newaxis]\n",
    "\n",
    "    thresh = cm.max() / 2.\n",
    "    for i, j in itertools.product(range(cm.shape[0]), range(cm.shape[1])):\n",
    "        plt.text(j, i, cm[i, j],\n",
    "                 horizontalalignment=\"center\",\n",
    "                 color=\"white\" if cm[i, j] > thresh else \"black\")\n",
    "\n",
    "    plt.tight_layout()\n",
    "    plt.ylabel('Actual class')\n",
    "    plt.xlabel('Predicted class')"
   ]
  },
  {
   "cell_type": "code",
   "execution_count": 17,
   "metadata": {
    "scrolled": true
   },
   "outputs": [
    {
     "data": {
      "image/png": "[encoded data removed]",
      "text/plain": [
       "<Figure size 432x288 with 2 Axes>"
      ]
     },
     "metadata": {
      "needs_background": "light"
     },
     "output_type": "display_data"
    }
   ],
   "source": [
    "from collections import Counter\n",
    "from sklearn.metrics import confusion_matrix\n",
    "import itertools\n",
    "\n",
    "# Predict the values from the validation dataset\n",
    "Y_pred = model.predict(x_test)\n",
    "# Convert predictions classes to one hot vectors \n",
    "Y_pred_classes = np.argmax(Y_pred, axis = 1) \n",
    "# Convert validation observations to one hot vectors\n",
    "Y_true = np.argmax(y_test, axis = 1) \n",
    "# compute the confusion matrix\n",
    "confusion_mtx = confusion_matrix(Y_true, Y_pred_classes) \n",
    "# plot the confusion matrix\n",
    "plot_confusion_matrix(confusion_mtx, classes = range(10))"
   ]
  },
  {
   "cell_type": "markdown",
   "metadata": {},
   "source": [
    "- In this case, the elements of the diagonal represent the number of points in which the label predicted by the model coincides with the actual value of the label, while the other values indicate the cases in which the model has classified incorrectly.\n",
    "\n",
    "- Therefore, the higher the values of the diagonal, the better the prediction will be.\n",
    "\n",
    "- If we calculate the sum of the values of the diagonal divided by the total values of the matrix, we get the same accuracy that the evaluate() method has returned."
   ]
  },
  {
   "cell_type": "code",
   "execution_count": 18,
   "metadata": {},
   "outputs": [],
   "source": [
    "predictions = model.predict(x_test)"
   ]
  },
  {
   "cell_type": "markdown",
   "metadata": {},
   "source": [
    "- The predict() method return a vector with the predictions for the whole dataset elements.\n",
    "- We know which class gives the most probability of belonging by means of the argmax function of Numpy, which returns the index of the position that contains the highest value of the vector."
   ]
  },
  {
   "cell_type": "code",
   "execution_count": 19,
   "metadata": {},
   "outputs": [
    {
     "data": {
      "text/plain": [
       "3"
      ]
     },
     "execution_count": 19,
     "metadata": {},
     "output_type": "execute_result"
    }
   ],
   "source": [
    "np.argmax(predictions[11])"
   ]
  },
  {
   "cell_type": "code",
   "execution_count": 20,
   "metadata": {},
   "outputs": [
    {
     "name": "stdout",
     "output_type": "stream",
     "text": [
      "[0.1357197  0.06231341 0.10343719 0.33734652 0.03020793 0.13135026\n",
      " 0.0646946  0.01855368 0.08367935 0.03269728]\n"
     ]
    }
   ],
   "source": [
    "print(predictions[11])"
   ]
  },
  {
   "cell_type": "markdown",
   "metadata": {},
   "source": [
    "- We see that the highest value in the vector is in the position 3.\n",
    "\n",
    "- We can also verify that the result of the prediction is a vector whose sum of all its components is equal to 1, as expected."
   ]
  },
  {
   "cell_type": "code",
   "execution_count": 21,
   "metadata": {},
   "outputs": [
    {
     "data": {
      "text/plain": [
       "0.99999994"
      ]
     },
     "execution_count": 21,
     "metadata": {},
     "output_type": "execute_result"
    }
   ],
   "source": [
    "np.sum(predictions[11])"
   ]
  },
  {
   "cell_type": "markdown",
   "metadata": {},
   "source": [
    "## Try some different combination"
   ]
  },
  {
   "cell_type": "markdown",
   "metadata": {},
   "source": [
    "### 1) Activation Functions (sigmoid, tanh, relu)"
   ]
  },
  {
   "cell_type": "code",
   "execution_count": null,
   "metadata": {
    "scrolled": true
   },
   "outputs": [],
   "source": [
    "activations = ['sigmoid', 'tanh', 'relu']\n",
    "\n",
    "for activation in activations:\n",
    "\n",
    "    model = Sequential()\n",
    "    model.add(Dense(10, activation=activation, input_shape=(784,)))\n",
    "    model.add(Dense(10, activation='softmax'))\n",
    "\n",
    "    model.compile(loss=\"categorical_crossentropy\", # Computes the crossentropy loss between the labels and predictions.\n",
    "                  optimizer=\"adam\",\n",
    "                  metrics = ['accuracy']) # Calculates how often predictions equals labels.\n",
    "\n",
    "    model.fit(x_train, y_train, batch_size=100, epochs=10, verbose = 0)\n",
    "\n",
    "    train_loss, train_acc = model.evaluate(x_train, y_train)\n",
    "    print(activation, 'Train accuracy:', round(train_acc,4))\n",
    "\n",
    "    test_loss, test_acc = model.evaluate(x_test, y_test)\n",
    "    print(activation, 'Test accuracy:', round(test_acc,4))"
   ]
  },
  {
   "cell_type": "markdown",
   "metadata": {},
   "source": [
    "- We can see that 'sigmoid' is low accuracy so we use generally sigmoid function in dropout when there is one class, \n",
    "- tanh and relu scores are very close"
   ]
  },
  {
   "cell_type": "markdown",
   "metadata": {},
   "source": [
    "### 2) Compare Node"
   ]
  },
  {
   "cell_type": "code",
   "execution_count": null,
   "metadata": {
    "scrolled": false
   },
   "outputs": [],
   "source": [
    "nodes = [10,50,100]\n",
    "\n",
    "for node in nodes:\n",
    "\n",
    "    model = Sequential()\n",
    "    model.add(Dense(node, activation='relu', input_shape=(784,)))\n",
    "    model.add(Dense(10, activation='softmax'))\n",
    "\n",
    "    model.compile(loss=\"categorical_crossentropy\", # Computes the crossentropy loss between the labels and predictions.\n",
    "                  optimizer=\"adam\",\n",
    "                  metrics = ['accuracy']) # Calculates how often predictions equals labels.\n",
    "\n",
    "    model.fit(x_train, y_train, batch_size=100, epochs=10, verbose = 0)\n",
    "\n",
    "    train_loss, train_acc = model.evaluate(x_train, y_train)\n",
    "    print('node number:', node, 'Train accuracy:', round(train_acc,4))\n",
    "\n",
    "    test_loss, test_acc = model.evaluate(x_test, y_test)\n",
    "    print('node number:', node, 'Test accuracy:', round(test_acc,4))"
   ]
  },
  {
   "cell_type": "markdown",
   "metadata": {},
   "source": [
    "- When increase node number, accuracy is increasing but there is a limit, we have to find it"
   ]
  },
  {
   "cell_type": "markdown",
   "metadata": {},
   "source": [
    "### 3) Compare Layer Number"
   ]
  },
  {
   "cell_type": "code",
   "execution_count": null,
   "metadata": {},
   "outputs": [],
   "source": [
    "model = Sequential()\n",
    "model.add(Dense(50, activation='relu', input_shape=(784,)))\n",
    "model.add(Dense(10, activation='softmax'))\n",
    "model.compile(loss=\"categorical_crossentropy\", # Computes the crossentropy loss between the labels and predictions.\n",
    "              optimizer=\"adam\",\n",
    "              metrics = ['accuracy']) # Calculates how often predictions equals labels.\n",
    "\n",
    "model.fit(x_train, y_train, batch_size=100, epochs=10, verbose = 0)\n",
    "\n",
    "train_loss, train_acc = model.evaluate(x_train, y_train)\n",
    "print('One hidden layer Train accuracy:', round(train_acc,4))\n",
    "\n",
    "test_loss, test_acc = model.evaluate(x_test, y_test)\n",
    "print('One hidden layer Test accuracy:', round(test_acc,4))"
   ]
  },
  {
   "cell_type": "code",
   "execution_count": null,
   "metadata": {},
   "outputs": [],
   "source": [
    "model = Sequential()\n",
    "model.add(Dense(50, activation='relu', input_shape=(784,)))\n",
    "model.add(Dense(50, activation='relu'))\n",
    "model.add(Dense(10, activation='softmax'))\n",
    "\n",
    "model.compile(loss=\"categorical_crossentropy\", # Computes the crossentropy loss between the labels and predictions.\n",
    "              optimizer=\"adam\",\n",
    "              metrics = ['accuracy']) # Calculates how often predictions equals labels.\n",
    "\n",
    "model.fit(x_train, y_train, batch_size=100, epochs=10, verbose = 0)\n",
    "\n",
    "train_loss, train_acc = model.evaluate(x_train, y_train)\n",
    "print('Two hidden layer Train accuracy:', round(train_acc,4))\n",
    "\n",
    "test_loss, test_acc = model.evaluate(x_test, y_test)\n",
    "print('Two hidden layer Test accuracy:', round(test_acc,4))"
   ]
  },
  {
   "cell_type": "code",
   "execution_count": null,
   "metadata": {},
   "outputs": [],
   "source": [
    "model = Sequential()\n",
    "model.add(Dense(50, activation='relu', input_shape=(784,)))\n",
    "model.add(Dense(50, activation='relu'))\n",
    "model.add(Dense(50, activation='relu'))\n",
    "model.add(Dense(10, activation='softmax'))\n",
    "\n",
    "model.compile(loss=\"categorical_crossentropy\", # Computes the crossentropy loss between the labels and predictions.\n",
    "              optimizer=\"adam\",\n",
    "              metrics = ['accuracy']) # Calculates how often predictions equals labels.\n",
    "\n",
    "model.fit(x_train, y_train, batch_size=100, epochs=10, verbose = 0)\n",
    "\n",
    "train_loss, train_acc = model.evaluate(x_train, y_train)\n",
    "print('Three hidden layer Train accuracy:', round(train_acc,4))\n",
    "\n",
    "test_loss, test_acc = model.evaluate(x_test, y_test)\n",
    "print('Three hidden layer Test accuracy:', round(test_acc,4))"
   ]
  },
  {
   "cell_type": "markdown",
   "metadata": {},
   "source": [
    "- The larger models (with more hidden units) are able to fit the training set better, until eventually the largest models overfit the data."
   ]
  },
  {
   "cell_type": "markdown",
   "metadata": {},
   "source": [
    "### 4) Optimizer (SGD, RMSprop, Adam)"
   ]
  },
  {
   "cell_type": "markdown",
   "metadata": {},
   "source": [
    "In Stochastic Gradient Descent, you use only 1 training example before updating the gradients. When the training set is large, SGD can be faster. But the parameters will \"oscillate\" toward the minimum rather than converge smoothly. \n",
    "\n",
    "The difference between gradient descent, mini-batch gradient descent and stochastic gradient descent is the number of examples you use to perform one update step.\n",
    "\n",
    "Because mini-batch gradient descent makes a parameter update after seeing just a subset of examples, the direction of the update has some variance, and so the path taken by mini-batch gradient descent will \"oscillate\" toward convergence. Using momentum can reduce these oscillations.\n",
    "\n",
    "Adam is one of the most effective optimization algorithms for training neural networks. It combines ideas from RMSProp and Momentum.\n",
    "\n",
    "Momentum usually helps, but given the small learning rate and the simplistic dataset, its impact is almost negligeable. Also, the huge oscillations you see in the cost come from the fact that some minibatches are more difficult thans others for the optimization algorithm.\n",
    "\n",
    "Adam on the other hand, clearly outperforms mini-batch gradient descent and Momentum. If you run the model for more epochs on this simple dataset, all three methods will lead to very good results. However, you've seen that Adam converges a lot faster.\n",
    "\n",
    "Some advantages of Adam include:\n",
    "\n",
    "Relatively low memory requirements (though higher than gradient descent and gradient descent with momentum)\n",
    "Usually works well even with little tuning of hyperparameters"
   ]
  },
  {
   "cell_type": "code",
   "execution_count": null,
   "metadata": {},
   "outputs": [],
   "source": [
    "optimizers = ['SGD', 'RMSprop', 'Adam']\n",
    "\n",
    "for optimizer in optimizers:\n",
    "\n",
    "    model = Sequential()\n",
    "    model.add(Dense(10, activation='relu', input_shape=(784,)))\n",
    "    model.add(Dense(10, activation='softmax'))\n",
    "\n",
    "    model.compile(loss=\"categorical_crossentropy\", # Computes the crossentropy loss between the labels and predictions.\n",
    "                  optimizer=optimizer,\n",
    "                  metrics = ['accuracy']) # Calculates how often predictions equals labels.\n",
    "\n",
    "    model.fit(x_train, y_train, batch_size=100, epochs=10, verbose = 0)\n",
    "\n",
    "    train_loss, train_acc = model.evaluate(x_train, y_train)\n",
    "    print(optimizer, 'Train accuracy:', round(train_acc,4))\n",
    "\n",
    "    test_loss, test_acc = model.evaluate(x_test, y_test)\n",
    "    print(optimizer, 'Test accuracy:', round(test_acc,4))"
   ]
  },
  {
   "cell_type": "markdown",
   "metadata": {},
   "source": [
    "- SGD is very low but RMSprop and ADAM are better"
   ]
  },
  {
   "cell_type": "markdown",
   "metadata": {},
   "source": [
    "### 5) Batch Size"
   ]
  },
  {
   "cell_type": "code",
   "execution_count": null,
   "metadata": {},
   "outputs": [],
   "source": [
    "batch_sizes = [16, 32, 64, 128, 256]\n",
    "\n",
    "for batch_size in batch_sizes:\n",
    "\n",
    "    model = Sequential()\n",
    "    model.add(Dense(10, activation='relu', input_shape=(784,)))\n",
    "    model.add(Dense(10, activation='softmax'))\n",
    "\n",
    "    model.compile(loss=\"categorical_crossentropy\", # Computes the crossentropy loss between the labels and predictions.\n",
    "                  optimizer='Adam',\n",
    "                  metrics = ['accuracy']) # Calculates how often predictions equals labels.\n",
    "\n",
    "    model.fit(x_train, y_train, batch_size=batch_size, epochs=10, verbose = 0)\n",
    "\n",
    "    train_loss, train_acc = model.evaluate(x_train, y_train)\n",
    "    print('batch_size:', batch_size, 'Train accuracy:', round(train_acc,4))\n",
    "\n",
    "    test_loss, test_acc = model.evaluate(x_test, y_test)\n",
    "    print('batch_size:', batch_size, 'Test accuracy:', round(test_acc,4))"
   ]
  },
  {
   "cell_type": "markdown",
   "metadata": {},
   "source": [
    "### 6) Epochs"
   ]
  },
  {
   "cell_type": "code",
   "execution_count": null,
   "metadata": {},
   "outputs": [],
   "source": [
    "epochs = [10, 50, 100]\n",
    "\n",
    "for epochs in epochs:\n",
    "\n",
    "    model = Sequential()\n",
    "    model.add(Dense(10, activation='relu', input_shape=(784,)))\n",
    "    model.add(Dense(10, activation='softmax'))\n",
    "\n",
    "    model.compile(loss=\"categorical_crossentropy\", # Computes the crossentropy loss between the labels and predictions.\n",
    "                  optimizer='Adam',\n",
    "                  metrics = ['accuracy']) # Calculates how often predictions equals labels.\n",
    "\n",
    "    model.fit(x_train, y_train, batch_size=100, epochs=epochs, verbose = 0)\n",
    "\n",
    "    train_loss, train_acc = model.evaluate(x_train, y_train)\n",
    "    print('epochs:', epochs, 'Train accuracy:', round(train_acc,4))\n",
    "\n",
    "    test_loss, test_acc = model.evaluate(x_test, y_test)\n",
    "    print('epochs:', epochs, 'Test accuracy:', round(test_acc,4))"
   ]
  },
  {
   "cell_type": "markdown",
   "metadata": {},
   "source": [
    "### 7) Learning Rate"
   ]
  },
  {
   "cell_type": "markdown",
   "metadata": {},
   "source": [
    "In order for Gradient Descent to work you must choose the learning rate wisely. The learning rate $\\alpha$ determines how rapidly we update the parameters. If the learning rate is too large we may \"overshoot\" the optimal value. Similarly, if it is too small we will need too many iterations to converge to the best values. That's why it is crucial to use a well-tuned learning rate.\n",
    "\n",
    "Let's compare the learning curve of our model with several choices of learning rates. Run the cell below. This should take about 1 minute. Feel free also to try different values than the three we have initialized the learning_rates variable to contain, and see what happens."
   ]
  },
  {
   "cell_type": "code",
   "execution_count": null,
   "metadata": {},
   "outputs": [],
   "source": [
    "# Default value is 0.001\n",
    "\n",
    "tf.keras.optimizers.Adam(\n",
    "    learning_rate=0.001,\n",
    "    beta_1=0.9,\n",
    "    beta_2=0.999,\n",
    "    epsilon=1e-07,\n",
    "    amsgrad=False,\n",
    "    name=\"Adam\",\n",
    "    **kwargs\n",
    ")"
   ]
  },
  {
   "cell_type": "code",
   "execution_count": null,
   "metadata": {},
   "outputs": [],
   "source": [
    "from keras.optimizers import adam\n",
    "\n",
    "learning_rates = [0.01, 0.001, 0.0001]\n",
    "\n",
    "for learning_rate in learning_rates:\n",
    "\n",
    "    model = Sequential()\n",
    "    model.add(Dense(10, activation='relu', input_shape=(784,)))\n",
    "    model.add(Dense(10, activation='softmax'))\n",
    "\n",
    "    #opt = keras.optimizers.Adam(learning_rate=learning_rate)\n",
    "    \n",
    "    model.compile(loss=\"categorical_crossentropy\", # Computes the crossentropy loss between the labels and predictions.\n",
    "                  optimizer=adam(lr = learning_rate),\n",
    "                  metrics = ['accuracy']) # Calculates how often predictions equals labels.\n",
    "\n",
    "    model.fit(x_train, y_train, batch_size=100, epochs=epochs, verbose = 0)\n",
    "\n",
    "    train_loss, train_acc = model.evaluate(x_train, y_train)\n",
    "    print('learning_rate:', learning_rate, 'Train accuracy:', round(train_acc,4))\n",
    "\n",
    "    test_loss, test_acc = model.evaluate(x_test, y_test)\n",
    "    print('learning_rate:', learning_rate, 'Test accuracy:', round(test_acc,4))"
   ]
  },
  {
   "cell_type": "markdown",
   "metadata": {},
   "source": [
    "- Different learning rates give different costs and thus different predictions results.\n",
    "- If the learning rate is too large (0.01), the cost may oscillate up and down. It may even diverge (though in this example, using 0.01 still eventually ends up at a good value for the cost).\n",
    "- A lower cost doesn't mean a better model. You have to check if there is possibly overfitting. It happens when the training accuracy is a lot higher than the test accuracy.\n",
    "- In deep learning, we usually recommend that you:\n",
    "    -Choose the learning rate that better minimizes the cost function.\n",
    "    -If your model overfits, use other techniques to reduce overfitting."
   ]
  },
  {
   "cell_type": "markdown",
   "metadata": {},
   "source": [
    "### 8) Usage of initializers"
   ]
  },
  {
   "cell_type": "markdown",
   "metadata": {},
   "source": [
    "- Training your neural network requires specifying an initial value of the weights. A well chosen initialization method will help learning.\n",
    "- A well chosen initialization can: Speed up the convergence of gradient descent. Increase the odds of gradient descent converging to a lower training (and generalization) error\n",
    "- Zeros initialization\n",
    "- Random initialization\n",
    "- He initialization\n",
    "\n",
    "- Initializers define the way to set the initial random weights of Keras layers."
   ]
  },
  {
   "cell_type": "markdown",
   "metadata": {},
   "source": [
    "### 9) Regularization"
   ]
  },
  {
   "cell_type": "markdown",
   "metadata": {},
   "source": [
    "Deep Learning models have so much flexibility and capacity that overfitting can be a serious problem, if the training dataset is not big enough. Sure it does well on the training set, but the learned network doesn't generalize to new examples that it has never seen!\n",
    "\n",
    "in regularization mode -- by setting the lambd input to a non-zero value. We use \"lambd\" instead of \"lambda\" because \"lambda\" is a reserved keyword in Python.\n",
    "in dropout mode -- by setting the keep_prob to a value less than one\n",
    "\n",
    "Finally, dropout is a widely used regularization technique that is specific to deep learning. It randomly shuts down some neurons in each iteration.\n",
    "\n",
    "When you shut some neurons down, you actually modify your model. The idea behind drop-out is that at each iteration, you train a different model that uses only a subset of your neurons. With dropout, your neurons thus become less sensitive to the activation of one other specific neuron, because that other neuron might be shut down at any time."
   ]
  },
  {
   "cell_type": "code",
   "execution_count": null,
   "metadata": {
    "scrolled": true
   },
   "outputs": [],
   "source": [
    "from tensorflow.keras import regularizers\n",
    "\n",
    "model = Sequential()\n",
    "model.add(Dense(20, activation='relu', input_shape=(784,)))\n",
    "layers.Dropout(0.5),\n",
    "model.add(Dense(20, activation='relu', ))\n",
    "layers.Dropout(0.5),\n",
    "model.add(Dense(20, activation='relu', ))\n",
    "layers.Dropout(0.5),\n",
    "model.add(Dense(20, activation='relu', ))\n",
    "layers.Dropout(0.5),\n",
    "model.add(Dense(10, activation='softmax', activity_regularizer=tf.keras.regularizers.l2(0.5)))\n",
    "\n",
    "model.compile(loss=\"categorical_crossentropy\", # Computes the crossentropy loss between the labels and predictions.\n",
    "              optimizer=adam(lr = 0.001),\n",
    "              metrics = ['accuracy']) # Calculates how often predictions equals labels.\n",
    "\n",
    "model.fit(x_train, y_train, batch_size=32, epochs=30, verbose = 2)\n",
    "\n",
    "train_loss, train_acc = model.evaluate(x_train, y_train)\n",
    "print('Train accuracy:', round(train_acc,4), 'Train loss:', round(train_loss,4))\n",
    "\n",
    "test_loss, test_acc = model.evaluate(x_test, y_test)\n",
    "print('Test accuracy:', round(test_acc,4), 'Test loss:', round(test_loss,4))"
   ]
  },
  {
   "cell_type": "markdown",
   "metadata": {},
   "source": [
    "# FINAL MODEL"
   ]
  },
  {
   "cell_type": "code",
   "execution_count": null,
   "metadata": {},
   "outputs": [],
   "source": [
    "model = Sequential()\n",
    "\n",
    "model.add(Dense(250, activation='relu', input_shape=(784,)))\n",
    "\n",
    "model.add(Dense(250, activation='relu'))\n",
    "\n",
    "model.add(Dense(250, activation='relu'))\n",
    "\n",
    "model.add(Dense(10, activation='softmax'))\n",
    "\n",
    "model.compile(loss=\"categorical_crossentropy\", \n",
    "              optimizer='Adam',\n",
    "              metrics = ['accuracy']) \n",
    "\n",
    "model.fit(x_train, y_train, batch_size=32, epochs=20, verbose = 2)\n",
    "\n",
    "train_loss, train_acc = model.evaluate(x_train, y_train)\n",
    "print('Train accuracy:', round(train_acc,4), 'Train loss:', round(train_loss,4))\n",
    "\n",
    "test_loss, test_acc = model.evaluate(x_test, y_test)\n",
    "print('Test accuracy:', round(test_acc,4), 'Test loss:', round(test_loss,4))"
   ]
  },
  {
   "cell_type": "code",
   "execution_count": null,
   "metadata": {},
   "outputs": [],
   "source": [
    "# Predict () yöntemi, tüm veri kümesi öğelerinin tahminlerini içeren bir vektör döndürür.\n",
    "test_result = model.predict(test)\n",
    "\n",
    "# Sonucları bir csv dosyasına kaydetmek\n",
    "\n",
    "# Convert one-hot vector to number\n",
    "results = np.argmax(test_result,axis = 1) # bu bize prediction vektöründeki en yüksek olasılığa göre ilgili y değerini verir mesela 2 ya da 3\n",
    "\n",
    "results = pd.Series(results,name=\"Label\")\n",
    "\n",
    "\n",
    "submission = pd.concat([pd.Series(range(1,28001),name = \"ImageId\"),results],axis = 1)\n",
    "\n",
    "submission.to_csv(\"test_submission_best.csv\",index=False)"
   ]
  },
  {
   "cell_type": "code",
   "execution_count": null,
   "metadata": {},
   "outputs": [],
   "source": [
    "# Plot confusion matrix \n",
    "# Note: This code snippet for confusion-matrix is taken directly from the SKLEARN website.\n",
    "def plot_confusion_matrix(cm, classes,\n",
    "                          normalize=False,\n",
    "                          title='Confusion matrix',\n",
    "                          cmap=plt.cm.Blues):\n",
    "    \"\"\"\n",
    "    This function prints and plots the confusion matrix.\n",
    "    Normalization can be applied by setting `normalize=True`.\n",
    "    \"\"\"\n",
    "    plt.imshow(cm, interpolation='nearest', cmap=cmap)\n",
    "    plt.title(title)\n",
    "    plt.colorbar()\n",
    "    tick_marks = np.arange(len(classes))\n",
    "    plt.xticks(tick_marks, classes, rotation=30)\n",
    "    plt.yticks(tick_marks, classes)\n",
    "\n",
    "    if normalize:\n",
    "        cm = cm.astype('float') / cm.sum(axis=1)[:, np.newaxis]\n",
    "\n",
    "    thresh = cm.max() / 2.\n",
    "    for i, j in itertools.product(range(cm.shape[0]), range(cm.shape[1])):\n",
    "        plt.text(j, i, cm[i, j],\n",
    "                 horizontalalignment=\"center\",\n",
    "                 color=\"white\" if cm[i, j] > thresh else \"black\")\n",
    "\n",
    "    plt.tight_layout()\n",
    "    plt.ylabel('Actual class')\n",
    "    plt.xlabel('Predicted class')"
   ]
  },
  {
   "cell_type": "code",
   "execution_count": null,
   "metadata": {
    "scrolled": true
   },
   "outputs": [],
   "source": [
    "from collections import Counter\n",
    "from sklearn.metrics import confusion_matrix\n",
    "import itertools\n",
    "\n",
    "# Predict the values from the validation dataset\n",
    "Y_pred = model.predict(x_test)\n",
    "# Convert predictions classes to one hot vectors \n",
    "Y_pred_classes = np.argmax(Y_pred, axis = 1) \n",
    "# Convert validation observations to one hot vectors\n",
    "Y_true = np.argmax(y_test, axis = 1) \n",
    "# compute the confusion matrix\n",
    "confusion_mtx = confusion_matrix(Y_true, Y_pred_classes) \n",
    "# plot the confusion matrix\n",
    "plot_confusion_matrix(confusion_mtx, classes = range(10))"
   ]
  }
 ],
 "metadata": {
  "kernelspec": {
   "display_name": "Python 3",
   "language": "python",
   "name": "python3"
  },
  "language_info": {
   "codemirror_mode": {
    "name": "ipython",
    "version": 3
   },
   "file_extension": ".py",
   "mimetype": "text/x-python",
   "name": "python",
   "nbconvert_exporter": "python",
   "pygments_lexer": "ipython3",
   "version": "3.7.6"
  }
 },
 "nbformat": 4,
 "nbformat_minor": 4
}
